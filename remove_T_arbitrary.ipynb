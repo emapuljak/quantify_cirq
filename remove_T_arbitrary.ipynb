{
 "cells": [
  {
   "cell_type": "code",
   "execution_count": null,
   "id": "6f0653e1-4e8b-46a6-bbe5-e89b23c30bf6",
   "metadata": {},
   "outputs": [],
   "source": [
    "import cirq\n",
    "from qramcircuits.toffoli_decomposition import ToffoliDecompType, ToffoliDecomposition\n",
    "from mathematics.draper0406142 import CarryLookaheadAdder\n",
    "import qramcircuits.bucket_brigade as bb\n",
    "\n",
    "import optimizers as qopt"
   ]
  },
  {
   "cell_type": "code",
   "execution_count": null,
   "id": "783201ac-a075-450b-875f-2ecc5a6c8321",
   "metadata": {},
   "outputs": [],
   "source": [
    "def main(n_qubits, decomp_scenario):\n",
    "        \n",
    "    #Create the qubits of the circuits\n",
    "    \n",
    "    qubits = []\n",
    "    for i in range(n_qubits):\n",
    "        qubits.append(cirq.NamedQubit(\"a\" + str(i)))\n",
    "\n",
    "    #Create the search\n",
    "    #search = [0, 1, 2, 3]\n",
    "    #search = list(range(0, 2**n_qubits-1))\n",
    "    \n",
    "    print(\"********* Bucket Brigade *********\")\n",
    "\n",
    "    bbcircuit = bb.BucketBrigade(qubits, decomp_scenario = decomp_scenario)\n",
    "    \n",
    "    print(bbcircuit.circuit.to_text_diagram(use_unicode_characters=True, qubit_order = bbcircuit.qubit_order))\n",
    "\n",
    "    # Verification\n",
    "    print(\"Verify nqubits:      {}\\n\".format(bbcircuit.verify_number_qubits()))\n",
    "    print(\"Verify Depth:        {}\\n\".format(bbcircuit.verify_depth(\n",
    "        Alexandru_scenario=decomp_scenario.parallel_toffolis))\n",
    "    )\n",
    "    print(\"Verify T_count:      {}\\n\".format(bbcircuit.verify_T_count()))\n",
    "    print(\"Verify T_depth:      {}\\n\".format(bbcircuit.verify_T_depth(\n",
    "        Alexandru_scenario=decomp_scenario.parallel_toffolis))\n",
    "    )\n",
    "    print(\"Verify H_count:      {}\\n\".format(bbcircuit.verify_hadamard_count(\n",
    "        Alexandru_scenario=decomp_scenario.parallel_toffolis))\n",
    "    )\n",
    "    # print(\"Verify CNOT_c:   {}\\n\".format(bbcircuit.verify_cnot_count(\n",
    "    #     Alexandru_scenario=olivia_decomposition.parallel_toffolis))\n",
    "    # )\n",
    "\n",
    "    # qopt.CommuteTGatesToStart().optimize_circuit(bbcircuit.circuit)\n",
    "    #\n",
    "    #print(bbcircuit.circuit)\n",
    "\n",
    "    # qopt.SearchCNOTPattern().optimize_circuit(bbcircuit.circuit)\n",
    "\n",
    "    # qopt.CancelNghCNOTs().apply_until_nothing_changes(bbcircuit.circuit,\n",
    "    #                                                   cu.count_cnot_of_circuit)\n",
    "\n",
    "    return bbcircuit"
   ]
  },
  {
   "cell_type": "code",
   "execution_count": null,
   "id": "dc9b4ed4-1b1b-4a99-a669-304cb003eebd",
   "metadata": {},
   "outputs": [],
   "source": [
    "n_qubits = 2\n",
    "decomp_scenario = bb.BucketBrigadeDecompType(\n",
    "    [\n",
    "        ToffoliDecompType.ZERO_ANCILLA_TDEPTH_4_COMPUTE,    # fan_in_decomp\n",
    "        ToffoliDecompType.ZERO_ANCILLA_TDEPTH_4,  # mem_decomp\n",
    "        ToffoliDecompType.ZERO_ANCILLA_TDEPTH_0_UNCOMPUTE,    # fan_out_decomp\n",
    "    ],\n",
    "    True\n",
    ")"
   ]
  },
  {
   "cell_type": "code",
   "execution_count": null,
   "id": "c14ce029-cd06-4780-9935-5ff16f5c7c42",
   "metadata": {},
   "outputs": [],
   "source": [
    "bbcircuit = main(n_qubits = n_qubits, decomp_scenario=decomp_scenario)"
   ]
  },
  {
   "cell_type": "code",
   "execution_count": null,
   "id": "01bb5b27-ab1a-4274-b056-556ef011ebe4",
   "metadata": {},
   "outputs": [],
   "source": [
    "from cirqpyzx import CirqPyZX\n",
    "\n",
    "circ_optimized = CirqPyZX(bbcircuit)\n",
    "circ_optimized = circ_optimized.optimize()"
   ]
  },
  {
   "cell_type": "code",
   "execution_count": null,
   "id": "d89e5985-e4fe-4f00-9873-d96939cdf134",
   "metadata": {},
   "outputs": [],
   "source": [
    "import pyzx as zx\n",
    "\n",
    "zx.draw(circ_optimized)"
   ]
  },
  {
   "cell_type": "code",
   "execution_count": null,
   "id": "d3f84c94-330d-4062-8983-acddad0a42a1",
   "metadata": {},
   "outputs": [],
   "source": [
    "from cirq.contrib.qasm_import.qasm import circuit_from_qasm\n",
    "circ_optimized_qasm = circ_optimized.to_qasm()\n",
    "circ_optimized_cirq = circuit_from_qasm(circ_optimized_qasm)"
   ]
  },
  {
   "cell_type": "code",
   "execution_count": null,
   "id": "c293212b-bd05-4fb5-81f5-01b4cdefc288",
   "metadata": {},
   "outputs": [],
   "source": [
    "circ_optimized.stats_dict(depth=True)"
   ]
  },
  {
   "cell_type": "code",
   "execution_count": null,
   "id": "1aa90105-edae-427f-9ac4-2a0dbf150426",
   "metadata": {},
   "outputs": [],
   "source": [
    "circ_optimized_cirq"
   ]
  },
  {
   "cell_type": "code",
   "execution_count": null,
   "id": "ce5734f3-bb90-48f7-8565-1c52b9bc1d35",
   "metadata": {},
   "outputs": [],
   "source": [
    "print(circ_optimized_cirq.to_text_diagram(use_unicode_characters=True))"
   ]
  },
  {
   "cell_type": "code",
   "execution_count": null,
   "id": "507a9ebc-7a55-4866-9d23-5efb5903d008",
   "metadata": {},
   "outputs": [],
   "source": [
    "from utils.counting_utils import *\n",
    "\n",
    "count_rzT_depth_of_circuit(circ_optimized_cirq)"
   ]
  },
  {
   "cell_type": "code",
   "execution_count": null,
   "id": "1e3171e2-84f1-4155-b585-9dd4bae64de3",
   "metadata": {},
   "outputs": [],
   "source": [
    "count_rzT_of_circuit(circ_optimized_cirq)"
   ]
  },
  {
   "cell_type": "code",
   "execution_count": null,
   "id": "1a6032df-3e92-4100-a0e3-99fdcd720409",
   "metadata": {},
   "outputs": [],
   "source": [
    "circ_optimized_cirq.ops."
   ]
  },
  {
   "cell_type": "code",
   "execution_count": null,
   "id": "5939b7d9-b01b-4b52-9f60-ee422e19181c",
   "metadata": {},
   "outputs": [],
   "source": [
    "print(\"Verify T_d:      {}\\n\".format(circ_optimized_cirq.verify_T_depth(\n",
    "        Alexandru_scenario=decomp_scenario.parallel_toffolis))\n",
    "    )"
   ]
  },
  {
   "cell_type": "code",
   "execution_count": null,
   "id": "b638a69e-73bd-4a65-9a2d-75bf2853f153",
   "metadata": {},
   "outputs": [],
   "source": []
  }
 ],
 "metadata": {
  "kernelspec": {
   "display_name": "Python 3 (ipykernel)",
   "language": "python",
   "name": "python3"
  },
  "language_info": {
   "codemirror_mode": {
    "name": "ipython",
    "version": 3
   },
   "file_extension": ".py",
   "mimetype": "text/x-python",
   "name": "python",
   "nbconvert_exporter": "python",
   "pygments_lexer": "ipython3",
   "version": "3.11.4"
  }
 },
 "nbformat": 4,
 "nbformat_minor": 5
}
