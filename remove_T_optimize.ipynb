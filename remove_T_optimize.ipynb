{
 "cells": [
  {
   "cell_type": "code",
   "execution_count": null,
   "id": "6f0653e1-4e8b-46a6-bbe5-e89b23c30bf6",
   "metadata": {},
   "outputs": [],
   "source": [
    "import cirq\n",
    "from qramcircuits.toffoli_decomposition import ToffoliDecompType, ToffoliDecomposition\n",
    "from mathematics.draper0406142 import CarryLookaheadAdder\n",
    "import qramcircuits.bucket_brigade as bb\n",
    "from utils.counting_utils import *\n",
    "import optimizers as qopt"
   ]
  },
  {
   "cell_type": "code",
   "execution_count": null,
   "id": "783201ac-a075-450b-875f-2ecc5a6c8321",
   "metadata": {},
   "outputs": [],
   "source": [
    "def main(n_qubits, decomp_scenario):\n",
    "        \n",
    "    #Create the qubits of the circuits\n",
    "    \n",
    "    qubits = []\n",
    "    for i in range(n_qubits):\n",
    "        qubits.append(cirq.NamedQubit(\"a\" + str(i)))\n",
    "\n",
    "    #Create the search\n",
    "    #search = [0, 1, 2, 3]\n",
    "    #search = list(range(0, 2**n_qubits-1))\n",
    "    \n",
    "    print(\"********* Bucket Brigade *********\")\n",
    "\n",
    "    bbcircuit = bb.BucketBrigade(qubits, decomp_scenario = decomp_scenario)\n",
    "    \n",
    "    print(bbcircuit.circuit.to_text_diagram(use_unicode_characters=True, qubit_order = bbcircuit.qubit_order))\n",
    "\n",
    "    # #Verification\n",
    "    print(\"Verify nqubits:      {}\\n\".format(bbcircuit.verify_number_qubits()))\n",
    "    print(\"Verify Depth:        {}\\n\".format(bbcircuit.verify_depth(\n",
    "        Alexandru_scenario=decomp_scenario.parallel_toffolis))\n",
    "    )\n",
    "    print(\"Verify T_count:      {}\\n\".format(bbcircuit.verify_T_count()))\n",
    "    print(\"Verify T_depth:      {}\\n\".format(bbcircuit.verify_T_depth(\n",
    "        Alexandru_scenario=decomp_scenario.parallel_toffolis))\n",
    "    )\n",
    "    print(\"Verify H_count:      {}\\n\".format(bbcircuit.verify_hadamard_count(\n",
    "        Alexandru_scenario=decomp_scenario.parallel_toffolis))\n",
    "    )\n",
    "    # print(\"Verify CNOT_c:   {}\\n\".format(bbcircuit.verify_cnot_count(\n",
    "    #     Alexandru_scenario=olivia_decomposition.parallel_toffolis))\n",
    "    # )\n",
    "\n",
    "    # qopt.CommuteTGatesToStart().optimize_circuit(bbcircuit.circuit)\n",
    "    #\n",
    "    #print(bbcircuit.circuit)\n",
    "\n",
    "    # qopt.SearchCNOTPattern().optimize_circuit(bbcircuit.circuit)\n",
    "\n",
    "    # qopt.CancelNghCNOTs().apply_until_nothing_changes(bbcircuit.circuit,\n",
    "    #                                                   cu.count_cnot_of_circuit)\n",
    "\n",
    "    return bbcircuit"
   ]
  },
  {
   "cell_type": "code",
   "execution_count": null,
   "id": "dc9b4ed4-1b1b-4a99-a669-304cb003eebd",
   "metadata": {},
   "outputs": [],
   "source": [
    "n_qubits = 2\n",
    "decomp_scenario = bb.BucketBrigadeDecompType(\n",
    "    [\n",
    "        ToffoliDecompType.ZERO_ANCILLA_TDEPTH_4_COMPUTE,    # fan_in_decomp\n",
    "        ToffoliDecompType.ZERO_ANCILLA_TDEPTH_4,  # mem_decomp\n",
    "        ToffoliDecompType.ZERO_ANCILLA_TDEPTH_0_UNCOMPUTE,    # fan_out_decomp\n",
    "    ],\n",
    "    True\n",
    ")"
   ]
  },
  {
   "cell_type": "code",
   "execution_count": null,
   "id": "c14ce029-cd06-4780-9935-5ff16f5c7c42",
   "metadata": {},
   "outputs": [],
   "source": [
    "bbcircuit = main(n_qubits = n_qubits, decomp_scenario=decomp_scenario)"
   ]
  },
  {
   "cell_type": "code",
   "execution_count": null,
   "id": "ea7b0528-1f35-4d14-81c2-4fe4bbbc053d",
   "metadata": {},
   "outputs": [],
   "source": [
    "from utils.counting_utils import *\n",
    "old_moments = bbcircuit.circuit.moments\n",
    "old_num_T_gates = count_num_gates(bbcircuit.circuit)"
   ]
  },
  {
   "cell_type": "code",
   "execution_count": null,
   "id": "9870b77a-5db5-4cc8-9bf0-e702fb44dbe3",
   "metadata": {},
   "outputs": [],
   "source": [
    "new_circuitbbcircuit.remove_T_gates(percentage=0.2, inplace=False)"
   ]
  },
  {
   "cell_type": "code",
   "execution_count": null,
   "id": "44727bb3-8123-48dc-af5b-11cafa3e1005",
   "metadata": {},
   "outputs": [],
   "source": [
    "new_moments = bbcircuit.circuit.moments\n",
    "new_num_T_gates = count_t_of_circuit(bbcircuit.circuit)"
   ]
  },
  {
   "cell_type": "code",
   "execution_count": null,
   "id": "7daffefe-c435-4bf0-bb7c-e4649bee52e1",
   "metadata": {},
   "outputs": [],
   "source": [
    "bbcircuit.circuit.to_text_diagram(use_unicode_characters=True, qubit_order = bbcircuit.qubit_order)"
   ]
  },
  {
   "cell_type": "code",
   "execution_count": null,
   "id": "475e7407-7041-413d-9f4b-82b1410c5abd",
   "metadata": {},
   "outputs": [],
   "source": [
    "import itertools\n",
    "lists = list(itertools.product([0, 1], repeat=2))\n",
    "l = []\n",
    "for item in lists:\n",
    "    string = ''\n",
    "    for i in item:\n",
    "        string = string + str(i)\n",
    "    print(string)\n",
    "    l.append(string)"
   ]
  },
  {
   "cell_type": "markdown",
   "id": "ebab5d60-2198-4210-99c6-03417bcb1bcd",
   "metadata": {},
   "source": [
    "## Check input/output"
   ]
  },
  {
   "cell_type": "code",
   "execution_count": null,
   "id": "330f6ffb-a3f4-4871-9d9b-56db81c6f2e8",
   "metadata": {},
   "outputs": [],
   "source": [
    "import itertools\n",
    "\n",
    "def create_binary_strings(n):\n",
    "    bin_array = list(itertools.product([0, 1], repeat=n))\n",
    "    bin_strings = []\n",
    "    for item in bin_array:\n",
    "        string = ''\n",
    "        for i in item:\n",
    "            string = string + str(i)\n",
    "        bin_strings.append(string)\n",
    "    return bin_strings"
   ]
  },
  {
   "cell_type": "code",
   "execution_count": null,
   "id": "88348c54-52ff-481a-b4e8-cb89d305ea3f",
   "metadata": {},
   "outputs": [],
   "source": [
    "from tests.test_BB_remove_T import *\n",
    "\n",
    "for n_qubits in range(2, 13):\n",
    "    decomp_scenario = choose_decomposition(decomp_ID='1')\n",
    "    bbcircuit = create_BB_circuit(n_qubits=n_qubits, decomp_scenario=decomp_scenario)\n",
    "    for initial_state in create_binary_strings(n_qubits):\n",
    "        bcircuit, bbcircuit_modified, freq_origin, freq_mod = test_remove_T(bbcircuit, initial_state=initial_state, percentage=0.2, inplace=True, repetitions=1000)\n",
    "    if n_qubits==3: break\n",
    "    #verify_counts(bbcircuit, bbcircuit_modified, decomp_scenario)"
   ]
  },
  {
   "cell_type": "code",
   "execution_count": null,
   "id": "faf7f258-ac8b-41df-8efe-28624c71f1cc",
   "metadata": {},
   "outputs": [],
   "source": [
    "qubits = []\n",
    "for i in range(n_qubits):\n",
    "    qubits.append(cirq.NamedQubit(\"a\" + str(i)))"
   ]
  },
  {
   "cell_type": "code",
   "execution_count": null,
   "id": "fb57a9ba-5cfc-4b2d-bda6-7f0657164e9c",
   "metadata": {},
   "outputs": [],
   "source": [
    "# original one\n",
    "bbcircuit = bb.BucketBrigade(qubits, decomp_scenario = decomp_scenario)"
   ]
  },
  {
   "cell_type": "code",
   "execution_count": null,
   "id": "c2297e2d-e619-4b29-ba19-22edb67e5b3c",
   "metadata": {},
   "outputs": [],
   "source": [
    "#a0,a1 -> Memory cell\n",
    "#  0    0  -> 00\n",
    "#  0    1  -> 01\n",
    "#  1    0  -> 10\n",
    "#  1    1  -> 11"
   ]
  },
  {
   "cell_type": "code",
   "execution_count": null,
   "id": "a38f0bd0-7073-40a1-bfcf-0b9e716e00b2",
   "metadata": {},
   "outputs": [],
   "source": [
    "import numpy as np\n",
    "np.array(bbcircuit.all_qubits()).shape"
   ]
  },
  {
   "cell_type": "code",
   "execution_count": null,
   "id": "4114bb6a-1f68-4575-bde8-953489bebee4",
   "metadata": {},
   "outputs": [],
   "source": [
    "bbcircuit.all_qubits()[-1].name"
   ]
  },
  {
   "cell_type": "code",
   "execution_count": null,
   "id": "fa7c6e39-976d-4cc6-a930-1edfee9345a9",
   "metadata": {},
   "outputs": [],
   "source": [
    "bbcircuit.circuit.append(cirq.measure(bbcircuit.all_qubits()[-1], key='target'))\n",
    "bbcircuit_2.circuit.append(cirq.measure(bbcircuit_2.all_qubits()[-1], key='target'))"
   ]
  },
  {
   "cell_type": "code",
   "execution_count": null,
   "id": "d8272b6e-9d8e-4ffb-9e5f-5fafa716d859",
   "metadata": {},
   "outputs": [],
   "source": [
    "def bitstring(bits):\n",
    "    return ''.join(str(int(b)) for b in bits)"
   ]
  },
  {
   "cell_type": "code",
   "execution_count": null,
   "id": "98b57e58-082f-4c5b-99a7-919c138e29b5",
   "metadata": {},
   "outputs": [],
   "source": [
    "# for original circuit\n",
    "simulator = cirq.Simulator()\n",
    "result = simulator.run(bbcircuit.circuit, repetitions=100)\n",
    "print(\"Results:\")\n",
    "frequencies = result.histogram(key='target', fold_func=bitstring)\n",
    "print(f'Sampled results:\\n{frequencies}')"
   ]
  },
  {
   "cell_type": "code",
   "execution_count": null,
   "id": "5dbd6e6e-aed3-40bb-bc3c-34aac0550918",
   "metadata": {},
   "outputs": [],
   "source": [
    "# for modified circuit\n",
    "simulator = cirq.Simulator()\n",
    "result = simulator.run(bbcircuit_2.circuit, repetitions=100)\n",
    "print(\"Results:\")\n",
    "frequencies = result.histogram(key='target', fold_func=bitstring)\n",
    "print(f'Sampled results:\\n{frequencies}')"
   ]
  },
  {
   "cell_type": "code",
   "execution_count": null,
   "id": "01bb5b27-ab1a-4274-b056-556ef011ebe4",
   "metadata": {},
   "outputs": [],
   "source": [
    "from cirqpyzx import CirqPyZX\n",
    "\n",
    "circ_optimized = CirqPyZX(bbcircuit)\n",
    "circ_optimized = circ_optimized.optimize()"
   ]
  },
  {
   "cell_type": "code",
   "execution_count": null,
   "id": "d89e5985-e4fe-4f00-9873-d96939cdf134",
   "metadata": {},
   "outputs": [],
   "source": [
    "import pyzx as zx\n",
    "\n",
    "zx.draw(circ_optimized)"
   ]
  },
  {
   "cell_type": "code",
   "execution_count": null,
   "id": "d3f84c94-330d-4062-8983-acddad0a42a1",
   "metadata": {},
   "outputs": [],
   "source": [
    "from cirq.contrib.qasm_import.qasm import circuit_from_qasm\n",
    "circ_optimized_qasm = circ_optimized.to_qasm()\n",
    "circ_optimized_cirq = circuit_from_qasm(circ_optimized_qasm)"
   ]
  },
  {
   "cell_type": "code",
   "execution_count": null,
   "id": "c293212b-bd05-4fb5-81f5-01b4cdefc288",
   "metadata": {},
   "outputs": [],
   "source": [
    "circ_optimized.stats_dict(depth=True)"
   ]
  },
  {
   "cell_type": "code",
   "execution_count": null,
   "id": "1aa90105-edae-427f-9ac4-2a0dbf150426",
   "metadata": {},
   "outputs": [],
   "source": [
    "circ_optimized_cirq"
   ]
  },
  {
   "cell_type": "code",
   "execution_count": null,
   "id": "ce5734f3-bb90-48f7-8565-1c52b9bc1d35",
   "metadata": {},
   "outputs": [],
   "source": [
    "print(circ_optimized_cirq.to_text_diagram(use_unicode_characters=True))"
   ]
  },
  {
   "cell_type": "code",
   "execution_count": null,
   "id": "507a9ebc-7a55-4866-9d23-5efb5903d008",
   "metadata": {},
   "outputs": [],
   "source": [
    "from utils.counting_utils import *\n",
    "\n",
    "count_rzT_depth_of_circuit(circ_optimized_cirq)"
   ]
  },
  {
   "cell_type": "code",
   "execution_count": null,
   "id": "1e3171e2-84f1-4155-b585-9dd4bae64de3",
   "metadata": {},
   "outputs": [],
   "source": [
    "count_rzT_of_circuit(circ_optimized_cirq)"
   ]
  },
  {
   "cell_type": "code",
   "execution_count": null,
   "id": "1a6032df-3e92-4100-a0e3-99fdcd720409",
   "metadata": {},
   "outputs": [],
   "source": [
    "circ_optimized_cirq.ops."
   ]
  },
  {
   "cell_type": "code",
   "execution_count": null,
   "id": "5939b7d9-b01b-4b52-9f60-ee422e19181c",
   "metadata": {},
   "outputs": [],
   "source": [
    "print(\"Verify T_d:      {}\\n\".format(circ_optimized_cirq.verify_T_depth(\n",
    "        Alexandru_scenario=decomp_scenario.parallel_toffolis))\n",
    "    )"
   ]
  },
  {
   "cell_type": "code",
   "execution_count": null,
   "id": "b638a69e-73bd-4a65-9a2d-75bf2853f153",
   "metadata": {},
   "outputs": [],
   "source": []
  }
 ],
 "metadata": {
  "kernelspec": {
   "display_name": "Python 3 (ipykernel)",
   "language": "python",
   "name": "python3"
  },
  "language_info": {
   "codemirror_mode": {
    "name": "ipython",
    "version": 3
   },
   "file_extension": ".py",
   "mimetype": "text/x-python",
   "name": "python",
   "nbconvert_exporter": "python",
   "pygments_lexer": "ipython3",
   "version": "3.11.4"
  }
 },
 "nbformat": 4,
 "nbformat_minor": 5
}
