{
 "cells": [
  {
   "cell_type": "code",
   "execution_count": null,
   "id": "6f0653e1-4e8b-46a6-bbe5-e89b23c30bf6",
   "metadata": {},
   "outputs": [],
   "source": [
    "import cirq\n",
    "import os\n",
    "from tests.test_BB_remove_T import *\n",
    "import pandas as pd\n",
    "from qramcircuits.toffoli_decomposition import ToffoliDecompType, ToffoliDecomposition\n",
    "from mathematics.draper0406142 import CarryLookaheadAdder\n",
    "import qramcircuits.bucket_brigade as bb\n",
    "from utils.counting_utils import *\n",
    "from utils.help_utils import *\n",
    "import optimizers as qopt"
   ]
  },
  {
   "cell_type": "markdown",
   "id": "ebab5d60-2198-4210-99c6-03417bcb1bcd",
   "metadata": {},
   "source": [
    "# Test removal of T gates"
   ]
  },
  {
   "cell_type": "code",
   "execution_count": null,
   "id": "0a20eb2c-7900-47c7-bf10-b3dffc806c29",
   "metadata": {},
   "outputs": [],
   "source": [
    "# provide arguments\n",
    "decomp_ID = '1' # either 1, 2, or 3\n",
    "percentage = 0.2 # in range [0.0, 1.0]\n",
    "inplace = True # modification of circuit in place\n",
    "repetitions = 10000 # repetitions of quantum circuit execution\n",
    "save_dir = 'tests/results'"
   ]
  },
  {
   "cell_type": "code",
   "execution_count": null,
   "id": "8d2fe81c-dca4-44d8-b42a-a6f67bb0c7bf",
   "metadata": {},
   "outputs": [],
   "source": [
    "# if save_dir doesn't exist create it\n",
    "if os.path.exists(save_dir) is False:\n",
    "    os.system(f\"mkdir {save_dir}\")"
   ]
  },
  {
   "cell_type": "code",
   "execution_count": null,
   "id": "88348c54-52ff-481a-b4e8-cb89d305ea3f",
   "metadata": {},
   "outputs": [],
   "source": [
    "# check removal of T gates for number of qubits from 2 to 3\n",
    "for n_qubits in range(2, 4):\n",
    "    print(f'-------- nqubits: {n_qubits} --------')\n",
    "    # create decomposition scenario\n",
    "    decomp_scenario = choose_decomposition(decomp_ID)\n",
    "\n",
    "    # create dictionary to store results\n",
    "    save_data = dict()\n",
    "    save_data['input'] = []; save_data['output original'] = []; save_data['output modified'] = []\n",
    "\n",
    "    # for every binary string of n_qubits -> check results\n",
    "    for initial_state in create_binary_strings(n_qubits):\n",
    "        print(f'-------- initial state: {initial_state} --------')\n",
    "\n",
    "        # create BBcircuit with specified number of qubits\n",
    "        bbcircuit = create_BB_circuit(n_qubits=n_qubits, decomp_scenario=decomp_scenario)\n",
    "\n",
    "        \n",
    "        # test removal of \"percentage\" of T gates\n",
    "        bbcircuit, bbcircuit_modified, freq_origin, freq_mod = test_remove_T(bbcircuit,\\\n",
    "                                                                             initial_state=initial_state,\\\n",
    "                                                                             percentage=percentage,\\\n",
    "                                                                             inplace=inplace,\\\n",
    "                                                                             repetitions=repetitions)\n",
    "        \n",
    "        # gather results\n",
    "        save_data['input'].append(initial_state)\n",
    "        save_data['output original'].append(dict(freq_origin))\n",
    "        save_data['output modified'].append(dict(freq_mod))\n",
    "        \n",
    "    #save results for specific qubit\n",
    "    dataframe = pd.DataFrame(save_data)\n",
    "    save_name = f'{save_dir}/nqubits_{n_qubits}_percentage_{percentage*100}.csv'\n",
    "    dataframe.to_csv(save_name, index=False)  \n",
    "    #verify_counts(bbcircuit, bbcircuit_modified, decomp_scenario)"
   ]
  },
  {
   "cell_type": "code",
   "execution_count": null,
   "id": "f60106da-4732-4f98-adc6-bd57d5d1fdac",
   "metadata": {},
   "outputs": [],
   "source": []
  }
 ],
 "metadata": {
  "kernelspec": {
   "display_name": "Python 3 (ipykernel)",
   "language": "python",
   "name": "python3"
  },
  "language_info": {
   "codemirror_mode": {
    "name": "ipython",
    "version": 3
   },
   "file_extension": ".py",
   "mimetype": "text/x-python",
   "name": "python",
   "nbconvert_exporter": "python",
   "pygments_lexer": "ipython3",
   "version": "3.11.4"
  }
 },
 "nbformat": 4,
 "nbformat_minor": 5
}
